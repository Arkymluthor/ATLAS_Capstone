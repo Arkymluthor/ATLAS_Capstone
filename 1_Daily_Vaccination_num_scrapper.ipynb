{
 "cells": [
  {
   "cell_type": "code",
   "execution_count": 1,
   "metadata": {},
   "outputs": [],
   "source": [
    "import pandas as pd \n",
    "import selenium \n",
    "\n",
    "from selenium import webdriver\n",
    "from selenium.webdriver.support.ui import WebDriverWait\n",
    "from selenium.webdriver.support import expected_conditions\n",
    "from selenium.webdriver.common.by import By\n",
    "import time "
   ]
  },
  {
   "cell_type": "markdown",
   "metadata": {},
   "source": [
    "## USING SELENIUM TO SCRAP THE DAILY COVID VACCINATION DATA FROM COVID TRACKER "
   ]
  },
  {
   "cell_type": "code",
   "execution_count": 2,
   "metadata": {},
   "outputs": [],
   "source": [
    "filepath = 'C:/Users/User/Documents/chromedriver_win32/chromedriver.exe'\n",
    "chrome_path = filepath # File path for the chrome driver "
   ]
  },
  {
   "cell_type": "code",
   "execution_count": 3,
   "metadata": {},
   "outputs": [],
   "source": [
    "driver = webdriver.Chrome(chrome_path)"
   ]
  },
  {
   "cell_type": "code",
   "execution_count": 4,
   "metadata": {},
   "outputs": [],
   "source": [
    "url=('https://covid19tracker.ca/provincevac.html?p=ON')  #Url to scrap the dail vaccination data "
   ]
  },
  {
   "cell_type": "code",
   "execution_count": 5,
   "metadata": {},
   "outputs": [],
   "source": [
    "driver.get(url)  #Opens the Url "
   ]
  },
  {
   "cell_type": "code",
   "execution_count": 6,
   "metadata": {},
   "outputs": [
    {
     "data": {
      "text/plain": [
       "34"
      ]
     },
     "execution_count": 6,
     "metadata": {},
     "output_type": "execute_result"
    }
   ],
   "source": [
    "table_container = driver.find_elements_by_class_name('provinceRow')  #Finding elements required \n",
    " # Sleep\n",
    "time.sleep(4)\n",
    "len(table_container)"
   ]
  },
  {
   "cell_type": "code",
   "execution_count": 7,
   "metadata": {},
   "outputs": [],
   "source": [
    "Unit=[]\n",
    "for container in table_container:\n",
    "    col = container.find_element_by_tag_name('td').find_element_by_tag_name('span')\n",
    "    Unit.append(col.text)"
   ]
  },
  {
   "cell_type": "code",
   "execution_count": 8,
   "metadata": {},
   "outputs": [
    {
     "data": {
      "text/plain": [
       "34"
      ]
     },
     "execution_count": 8,
     "metadata": {},
     "output_type": "execute_result"
    }
   ],
   "source": [
    "len(Unit)"
   ]
  },
  {
   "cell_type": "code",
   "execution_count": 9,
   "metadata": {},
   "outputs": [],
   "source": [
    "driver1 = webdriver.Chrome(chrome_path)\n",
    "driver1.get(url)\n",
    "row_content = driver1.find_elements_by_xpath(\"//table[@id='dataTable2']/tbody/tr[@class='provinceRow']/td/i\")\n",
    "Dosage_Admin=[]\n",
    "People_Vaccinated=[]\n",
    "for i in range(len(Unit)*2):\n",
    "    if i == 0: \n",
    "        vaccine = row_content[i].text\n",
    "        Dosage_Admin.append(vaccine)\n",
    "    elif i % 2 == 0: \n",
    "        vaccine = row_content[i].text\n",
    "        Dosage_Admin.append(vaccine)\n",
    "    else:\n",
    "        people=row_content[i].text\n",
    "        People_Vaccinated.append(people)\n",
    "        \n",
    "    \n"
   ]
  },
  {
   "cell_type": "code",
   "execution_count": 10,
   "metadata": {},
   "outputs": [
    {
     "data": {
      "text/plain": [
       "34"
      ]
     },
     "execution_count": 10,
     "metadata": {},
     "output_type": "execute_result"
    }
   ],
   "source": [
    "len(Dosage_Admin)"
   ]
  },
  {
   "cell_type": "code",
   "execution_count": 11,
   "metadata": {},
   "outputs": [
    {
     "data": {
      "text/plain": [
       "34"
      ]
     },
     "execution_count": 11,
     "metadata": {},
     "output_type": "execute_result"
    }
   ],
   "source": [
    "len(People_Vaccinated)"
   ]
  },
  {
   "cell_type": "code",
   "execution_count": 12,
   "metadata": {},
   "outputs": [],
   "source": [
    "from datetime import datetime"
   ]
  },
  {
   "cell_type": "code",
   "execution_count": 13,
   "metadata": {},
   "outputs": [
    {
     "data": {
      "text/plain": [
       "'2021-05-07'"
      ]
     },
     "execution_count": 13,
     "metadata": {},
     "output_type": "execute_result"
    }
   ],
   "source": [
    "datetime.today().strftime('%Y-%m-%d')"
   ]
  },
  {
   "cell_type": "code",
   "execution_count": null,
   "metadata": {},
   "outputs": [],
   "source": [
    "### AGGREGATING ALL THE DATA AND SAVING DATA INTO FOLDER "
   ]
  },
  {
   "cell_type": "code",
   "execution_count": 14,
   "metadata": {
    "scrolled": true
   },
   "outputs": [
    {
     "data": {
      "text/html": [
       "<div>\n",
       "<style scoped>\n",
       "    .dataframe tbody tr th:only-of-type {\n",
       "        vertical-align: middle;\n",
       "    }\n",
       "\n",
       "    .dataframe tbody tr th {\n",
       "        vertical-align: top;\n",
       "    }\n",
       "\n",
       "    .dataframe thead th {\n",
       "        text-align: right;\n",
       "    }\n",
       "</style>\n",
       "<table border=\"1\" class=\"dataframe\">\n",
       "  <thead>\n",
       "    <tr style=\"text-align: right;\">\n",
       "      <th></th>\n",
       "      <th>Unit</th>\n",
       "      <th>Dosage_Admin</th>\n",
       "      <th>People_Vaccinated</th>\n",
       "    </tr>\n",
       "  </thead>\n",
       "  <tbody>\n",
       "    <tr>\n",
       "      <th>0</th>\n",
       "      <td>The District of Algoma Health Unit</td>\n",
       "      <td>41,875 (+645 today)</td>\n",
       "      <td>3,918</td>\n",
       "    </tr>\n",
       "    <tr>\n",
       "      <th>1</th>\n",
       "      <td>Brant County Health Unit</td>\n",
       "      <td>57,518 (+1571 today)</td>\n",
       "      <td>4,676</td>\n",
       "    </tr>\n",
       "    <tr>\n",
       "      <th>2</th>\n",
       "      <td>Durham Regional Health Unit</td>\n",
       "      <td>230,763 (+5571 today)</td>\n",
       "      <td>14,306</td>\n",
       "    </tr>\n",
       "    <tr>\n",
       "      <th>3</th>\n",
       "      <td>Grey Bruce Health Unit</td>\n",
       "      <td>65,411 (+2350 today)</td>\n",
       "      <td>2,910</td>\n",
       "    </tr>\n",
       "    <tr>\n",
       "      <th>4</th>\n",
       "      <td>Haldimand-Norfolk Health Unit</td>\n",
       "      <td>42,846 (+1107 today)</td>\n",
       "      <td>4,994</td>\n",
       "    </tr>\n",
       "    <tr>\n",
       "      <th>5</th>\n",
       "      <td>Haliburton, Kawartha, Pine Ridge District Heal...</td>\n",
       "      <td>57,114</td>\n",
       "      <td>3,316</td>\n",
       "    </tr>\n",
       "    <tr>\n",
       "      <th>6</th>\n",
       "      <td>Halton Regional Health Unit</td>\n",
       "      <td>222,676 (+4062 today)</td>\n",
       "      <td>6,966</td>\n",
       "    </tr>\n",
       "    <tr>\n",
       "      <th>7</th>\n",
       "      <td>City of Hamilton Health Unit</td>\n",
       "      <td>208,740 (+3166 today)</td>\n",
       "      <td>17,592</td>\n",
       "    </tr>\n",
       "    <tr>\n",
       "      <th>8</th>\n",
       "      <td>Hastings and Prince Edward Counties Health Unit</td>\n",
       "      <td>61,166 (-8003 today)</td>\n",
       "      <td>4,564</td>\n",
       "    </tr>\n",
       "    <tr>\n",
       "      <th>9</th>\n",
       "      <td>Huron Perth Public Health Unit</td>\n",
       "      <td>51,393 (+1308 today)</td>\n",
       "      <td>3,984</td>\n",
       "    </tr>\n",
       "    <tr>\n",
       "      <th>10</th>\n",
       "      <td>Chatham-Kent Health Unit</td>\n",
       "      <td>37,848 (+124 today)</td>\n",
       "      <td>1,625</td>\n",
       "    </tr>\n",
       "    <tr>\n",
       "      <th>11</th>\n",
       "      <td>Kingston, Frontenac and Lennox and Addington H...</td>\n",
       "      <td>99,067 (+1492 today)</td>\n",
       "      <td>4,480</td>\n",
       "    </tr>\n",
       "    <tr>\n",
       "      <th>12</th>\n",
       "      <td>Lambton Health Unit</td>\n",
       "      <td>52,257</td>\n",
       "      <td>3,190</td>\n",
       "    </tr>\n",
       "    <tr>\n",
       "      <th>13</th>\n",
       "      <td>Leeds, Grenville and Lanark District Health Unit</td>\n",
       "      <td>48,588</td>\n",
       "      <td>2,847</td>\n",
       "    </tr>\n",
       "    <tr>\n",
       "      <th>14</th>\n",
       "      <td>Middlesex-London Health Unit</td>\n",
       "      <td>168,475</td>\n",
       "      <td>No Data</td>\n",
       "    </tr>\n",
       "    <tr>\n",
       "      <th>15</th>\n",
       "      <td>Niagara Regional Area Health Unit</td>\n",
       "      <td>195,738 (+2336 today)</td>\n",
       "      <td>3,755</td>\n",
       "    </tr>\n",
       "    <tr>\n",
       "      <th>16</th>\n",
       "      <td>North Bay Parry Sound District Health Unit</td>\n",
       "      <td>47,809 (+608 today)</td>\n",
       "      <td>2,004</td>\n",
       "    </tr>\n",
       "    <tr>\n",
       "      <th>17</th>\n",
       "      <td>Northwestern Health Unit</td>\n",
       "      <td>31,445 (+323 today)</td>\n",
       "      <td>2,641</td>\n",
       "    </tr>\n",
       "    <tr>\n",
       "      <th>18</th>\n",
       "      <td>City of Ottawa Health Unit</td>\n",
       "      <td>406,236 (+14985 today)</td>\n",
       "      <td>29,806</td>\n",
       "    </tr>\n",
       "    <tr>\n",
       "      <th>19</th>\n",
       "      <td>Peel Regional Health Unit</td>\n",
       "      <td>638,602 (+47805 today)</td>\n",
       "      <td>26,474</td>\n",
       "    </tr>\n",
       "    <tr>\n",
       "      <th>20</th>\n",
       "      <td>Peterborough County–City Health Unit</td>\n",
       "      <td>60,427</td>\n",
       "      <td>4,421</td>\n",
       "    </tr>\n",
       "    <tr>\n",
       "      <th>21</th>\n",
       "      <td>Porcupine Health Unit</td>\n",
       "      <td>33,391 (+1971 today)</td>\n",
       "      <td>1,338</td>\n",
       "    </tr>\n",
       "    <tr>\n",
       "      <th>22</th>\n",
       "      <td>Renfrew County and District Health Unit</td>\n",
       "      <td>36,965</td>\n",
       "      <td>No Data</td>\n",
       "    </tr>\n",
       "    <tr>\n",
       "      <th>23</th>\n",
       "      <td>The Eastern Ontario Health Unit</td>\n",
       "      <td>72,257 (+4120 today)</td>\n",
       "      <td>No Data</td>\n",
       "    </tr>\n",
       "    <tr>\n",
       "      <th>24</th>\n",
       "      <td>Simcoe Muskoka District Health Unit</td>\n",
       "      <td>235,485 (+4618 today)</td>\n",
       "      <td>20,794</td>\n",
       "    </tr>\n",
       "    <tr>\n",
       "      <th>25</th>\n",
       "      <td>Sudbury and District Health Unit</td>\n",
       "      <td>86,737 (+1332 today)</td>\n",
       "      <td>8,064</td>\n",
       "    </tr>\n",
       "    <tr>\n",
       "      <th>26</th>\n",
       "      <td>Thunder Bay District Health Unit</td>\n",
       "      <td>69,918 (+150711 today)</td>\n",
       "      <td>8,020</td>\n",
       "    </tr>\n",
       "    <tr>\n",
       "      <th>27</th>\n",
       "      <td>Timiskaming Health Unit</td>\n",
       "      <td>16,342</td>\n",
       "      <td>568</td>\n",
       "    </tr>\n",
       "    <tr>\n",
       "      <th>28</th>\n",
       "      <td>Waterloo Health Unit</td>\n",
       "      <td>220,629 (+4506 today)</td>\n",
       "      <td>16,600</td>\n",
       "    </tr>\n",
       "    <tr>\n",
       "      <th>29</th>\n",
       "      <td>Wellington-Dufferin-Guelph Health Unit</td>\n",
       "      <td>116,971 (+2692 today)</td>\n",
       "      <td>6,948</td>\n",
       "    </tr>\n",
       "    <tr>\n",
       "      <th>30</th>\n",
       "      <td>Windsor-Essex County Health Unit</td>\n",
       "      <td>183,669 (+3980 today)</td>\n",
       "      <td>14,141</td>\n",
       "    </tr>\n",
       "    <tr>\n",
       "      <th>31</th>\n",
       "      <td>York Regional Health Unit</td>\n",
       "      <td>503,809 (+13807 today)</td>\n",
       "      <td>25,546</td>\n",
       "    </tr>\n",
       "    <tr>\n",
       "      <th>32</th>\n",
       "      <td>Southwestern Public Health Unit</td>\n",
       "      <td>54,683</td>\n",
       "      <td>4,239</td>\n",
       "    </tr>\n",
       "    <tr>\n",
       "      <th>33</th>\n",
       "      <td>City of Toronto Health Unit</td>\n",
       "      <td>1,333,283 (+20618 today)</td>\n",
       "      <td>93,603</td>\n",
       "    </tr>\n",
       "  </tbody>\n",
       "</table>\n",
       "</div>"
      ],
      "text/plain": [
       "                                                 Unit  \\\n",
       "0                  The District of Algoma Health Unit   \n",
       "1                            Brant County Health Unit   \n",
       "2                         Durham Regional Health Unit   \n",
       "3                              Grey Bruce Health Unit   \n",
       "4                       Haldimand-Norfolk Health Unit   \n",
       "5   Haliburton, Kawartha, Pine Ridge District Heal...   \n",
       "6                         Halton Regional Health Unit   \n",
       "7                        City of Hamilton Health Unit   \n",
       "8     Hastings and Prince Edward Counties Health Unit   \n",
       "9                      Huron Perth Public Health Unit   \n",
       "10                           Chatham-Kent Health Unit   \n",
       "11  Kingston, Frontenac and Lennox and Addington H...   \n",
       "12                                Lambton Health Unit   \n",
       "13   Leeds, Grenville and Lanark District Health Unit   \n",
       "14                       Middlesex-London Health Unit   \n",
       "15                  Niagara Regional Area Health Unit   \n",
       "16         North Bay Parry Sound District Health Unit   \n",
       "17                           Northwestern Health Unit   \n",
       "18                         City of Ottawa Health Unit   \n",
       "19                          Peel Regional Health Unit   \n",
       "20               Peterborough County–City Health Unit   \n",
       "21                              Porcupine Health Unit   \n",
       "22            Renfrew County and District Health Unit   \n",
       "23                    The Eastern Ontario Health Unit   \n",
       "24                Simcoe Muskoka District Health Unit   \n",
       "25                   Sudbury and District Health Unit   \n",
       "26                   Thunder Bay District Health Unit   \n",
       "27                            Timiskaming Health Unit   \n",
       "28                               Waterloo Health Unit   \n",
       "29             Wellington-Dufferin-Guelph Health Unit   \n",
       "30                   Windsor-Essex County Health Unit   \n",
       "31                          York Regional Health Unit   \n",
       "32                    Southwestern Public Health Unit   \n",
       "33                        City of Toronto Health Unit   \n",
       "\n",
       "                Dosage_Admin People_Vaccinated  \n",
       "0        41,875 (+645 today)             3,918  \n",
       "1       57,518 (+1571 today)             4,676  \n",
       "2      230,763 (+5571 today)            14,306  \n",
       "3       65,411 (+2350 today)             2,910  \n",
       "4       42,846 (+1107 today)             4,994  \n",
       "5                     57,114             3,316  \n",
       "6      222,676 (+4062 today)             6,966  \n",
       "7      208,740 (+3166 today)            17,592  \n",
       "8       61,166 (-8003 today)             4,564  \n",
       "9       51,393 (+1308 today)             3,984  \n",
       "10       37,848 (+124 today)             1,625  \n",
       "11      99,067 (+1492 today)             4,480  \n",
       "12                    52,257             3,190  \n",
       "13                    48,588             2,847  \n",
       "14                   168,475           No Data  \n",
       "15     195,738 (+2336 today)             3,755  \n",
       "16       47,809 (+608 today)             2,004  \n",
       "17       31,445 (+323 today)             2,641  \n",
       "18    406,236 (+14985 today)            29,806  \n",
       "19    638,602 (+47805 today)            26,474  \n",
       "20                    60,427             4,421  \n",
       "21      33,391 (+1971 today)             1,338  \n",
       "22                    36,965           No Data  \n",
       "23      72,257 (+4120 today)           No Data  \n",
       "24     235,485 (+4618 today)            20,794  \n",
       "25      86,737 (+1332 today)             8,064  \n",
       "26    69,918 (+150711 today)             8,020  \n",
       "27                    16,342               568  \n",
       "28     220,629 (+4506 today)            16,600  \n",
       "29     116,971 (+2692 today)             6,948  \n",
       "30     183,669 (+3980 today)            14,141  \n",
       "31    503,809 (+13807 today)            25,546  \n",
       "32                    54,683             4,239  \n",
       "33  1,333,283 (+20618 today)            93,603  "
      ]
     },
     "execution_count": 14,
     "metadata": {},
     "output_type": "execute_result"
    }
   ],
   "source": [
    "df = pd.DataFrame({'Unit':Unit, 'Dosage_Admin':Dosage_Admin,'People_Vaccinated':People_Vaccinated})\n",
    "df "
   ]
  },
  {
   "cell_type": "code",
   "execution_count": 15,
   "metadata": {},
   "outputs": [],
   "source": [
    "df.to_csv(f\"Vaccination_data_Ontario_{datetime.today().strftime('%Y-%m-%d')}\",index=False)  #Saves file to csv "
   ]
  },
  {
   "cell_type": "code",
   "execution_count": 16,
   "metadata": {},
   "outputs": [],
   "source": [
    "driver.close()\n",
    "driver1.close()   #CLOSING ALL OPENED PAGES "
   ]
  }
 ],
 "metadata": {
  "kernelspec": {
   "display_name": "Python 3",
   "language": "python",
   "name": "python3"
  },
  "language_info": {
   "codemirror_mode": {
    "name": "ipython",
    "version": 3
   },
   "file_extension": ".py",
   "mimetype": "text/x-python",
   "name": "python",
   "nbconvert_exporter": "python",
   "pygments_lexer": "ipython3",
   "version": "3.8.5"
  }
 },
 "nbformat": 4,
 "nbformat_minor": 4
}
